{
 "cells": [
  {
   "cell_type": "code",
   "execution_count": 7,
   "metadata": {},
   "outputs": [
    {
     "name": "stdout",
     "output_type": "stream",
     "text": [
      "The highest water level is 6.647 at 2018-10-10 18:06\n"
     ]
    }
   ],
   "source": [
    "#Problem 1 (5 pts):\n",
    "#Write a script (or Jupyter Notebook code block)\n",
    "#that opens the file, uses a for loop to read through the file line by line and reports the highest water level and the date and time that was observed.\n",
    "\n",
    "import csv\n",
    "FILE = open('/blue/bsc4452/share/Class_Files/data/CO-OPS__8729108__wl.csv')     #open the file \n",
    "\n",
    "maxvalue = float(0)          #create a variable \n",
    "maxdate = ''                #create a variable \n",
    "\n",
    "\n",
    "for line in FILE:             #for loop in order to identify the largest level of water\n",
    "        try:\n",
    "            date = line.split(\",\")[0]     #for each line identify the date and time\n",
    "            water = line.split(\",\")[1]     #for each line identify the level of water\n",
    "            if float(maxvalue) < float(water):    #test if the value of this line is greater than the value from the initial value\n",
    "                maxvalue = float(water)           #if yes, replace the initial value for the current value\n",
    "                maxdate = date                  #if yes, replace the date and time for the current date and time\n",
    "\n",
    "        except:\n",
    "            continue\n",
    "print(f'The highest water level is', maxvalue, 'at', maxdate)      #print the result"
   ]
  },
  {
   "cell_type": "code",
   "execution_count": 8,
   "metadata": {},
   "outputs": [
    {
     "data": {
      "text/html": [
       "<div>\n",
       "<style scoped>\n",
       "    .dataframe tbody tr th:only-of-type {\n",
       "        vertical-align: middle;\n",
       "    }\n",
       "\n",
       "    .dataframe tbody tr th {\n",
       "        vertical-align: top;\n",
       "    }\n",
       "\n",
       "    .dataframe thead th {\n",
       "        text-align: right;\n",
       "    }\n",
       "</style>\n",
       "<table border=\"1\" class=\"dataframe\">\n",
       "  <thead>\n",
       "    <tr style=\"text-align: right;\">\n",
       "      <th></th>\n",
       "      <th>Date Time</th>\n",
       "      <th>Water Level</th>\n",
       "      <th>Sigma</th>\n",
       "      <th>O</th>\n",
       "      <th>F</th>\n",
       "      <th>R</th>\n",
       "      <th>L</th>\n",
       "      <th>Quality</th>\n",
       "    </tr>\n",
       "  </thead>\n",
       "  <tbody>\n",
       "    <tr>\n",
       "      <th>421</th>\n",
       "      <td>2018-10-10 18:06</td>\n",
       "      <td>6.647</td>\n",
       "      <td>0.561</td>\n",
       "      <td>1</td>\n",
       "      <td>0</td>\n",
       "      <td>0</td>\n",
       "      <td>0</td>\n",
       "      <td>p</td>\n",
       "    </tr>\n",
       "  </tbody>\n",
       "</table>\n",
       "</div>"
      ],
      "text/plain": [
       "            Date Time   Water Level   Sigma   O   F   R   L  Quality \n",
       "421  2018-10-10 18:06         6.647   0.561   1   0   0   0         p"
      ]
     },
     "execution_count": 8,
     "metadata": {},
     "output_type": "execute_result"
    }
   ],
   "source": [
    "#Problem 2 (5 pts):\n",
    "#Either in a new script or modifying the above script, calculate the lowest, highest and average water level observed during the time period.\n",
    "#As above, print the date and time for the lowest and highest readings.\n",
    "\n",
    "import pandas as pd  #read csv as pandas dataframe\n",
    "\n",
    "df = pd.read_csv('/blue/bsc4452/share/Class_Files/data/CO-OPS__8729108__wl.csv')\n",
    "df.nlargest(1, [' Water Level']) #find the highest water level value and print entire line\\n\","
   ]
  },
  {
   "cell_type": "code",
   "execution_count": 9,
   "metadata": {},
   "outputs": [
    {
     "name": "stdout",
     "output_type": "stream",
     "text": [
      "The lowest water level is 1.621 at 2018-10-11 15:36\n"
     ]
    }
   ],
   "source": [
    "#Problem 2(lowest water level)\n",
    "import csv\n",
    "FILE = open('/blue/bsc4452/share/Class_Files/data/CO-OPS__8729108__wl.csv')     #open the file \n",
    "\n",
    "minvalue = float(2)          #create a variable \n",
    "mindate = ''                #create a variable \n",
    "\n",
    "\n",
    "for line in FILE:             #for loop in order to identify the Lowest level of water\n",
    "        try:\n",
    "            date = line.split(\",\")[0]     #for each line identify the date and time\n",
    "            water = line.split(\",\")[1]     #for each line identify the level of water\n",
    "            if float(minvalue) > float(water):    #test if the value of this line is lower than the value from the initial value\n",
    "                minvalue = float(water)           #if yes, replace the initial value for the current value\n",
    "                mindate = date                  #if yes, replace the date and time for the current date and time\n",
    "\n",
    "        except:\n",
    "            continue\n",
    "print(f'The lowest water level is', minvalue, 'at', mindate)      #print the result"
   ]
  },
  {
   "cell_type": "code",
   "execution_count": 10,
   "metadata": {},
   "outputs": [
    {
     "data": {
      "text/html": [
       "<div>\n",
       "<style scoped>\n",
       "    .dataframe tbody tr th:only-of-type {\n",
       "        vertical-align: middle;\n",
       "    }\n",
       "\n",
       "    .dataframe tbody tr th {\n",
       "        vertical-align: top;\n",
       "    }\n",
       "\n",
       "    .dataframe thead th {\n",
       "        text-align: right;\n",
       "    }\n",
       "</style>\n",
       "<table border=\"1\" class=\"dataframe\">\n",
       "  <thead>\n",
       "    <tr style=\"text-align: right;\">\n",
       "      <th></th>\n",
       "      <th>Date Time</th>\n",
       "      <th>Water Level</th>\n",
       "      <th>Sigma</th>\n",
       "      <th>O</th>\n",
       "      <th>F</th>\n",
       "      <th>R</th>\n",
       "      <th>L</th>\n",
       "      <th>Quality</th>\n",
       "    </tr>\n",
       "  </thead>\n",
       "  <tbody>\n",
       "    <tr>\n",
       "      <th>636</th>\n",
       "      <td>2018-10-11 15:36</td>\n",
       "      <td>1.621</td>\n",
       "      <td>0.033</td>\n",
       "      <td>1</td>\n",
       "      <td>0</td>\n",
       "      <td>0</td>\n",
       "      <td>0</td>\n",
       "      <td>p</td>\n",
       "    </tr>\n",
       "  </tbody>\n",
       "</table>\n",
       "</div>"
      ],
      "text/plain": [
       "            Date Time   Water Level   Sigma   O   F   R   L  Quality \n",
       "636  2018-10-11 15:36         1.621   0.033   1   0   0   0         p"
      ]
     },
     "execution_count": 10,
     "metadata": {},
     "output_type": "execute_result"
    }
   ],
   "source": [
    "#Alternative to previous script\n",
    "df.nsmallest(1, [' Water Level']) #find the lowest water level value and print entire line\\n\","
   ]
  },
  {
   "cell_type": "code",
   "execution_count": 11,
   "metadata": {},
   "outputs": [
    {
     "data": {
      "text/plain": [
       "2.982323204419889"
      ]
     },
     "execution_count": 11,
     "metadata": {},
     "output_type": "execute_result"
    }
   ],
   "source": [
    "#find the Average water level value and print entire line\n",
    "df[' Water Level'].mean() #It's printing the value but there is a problem with rounding the value"
   ]
  },
  {
   "cell_type": "code",
   "execution_count": 12,
   "metadata": {},
   "outputs": [
    {
     "data": {
      "text/html": [
       "<div>\n",
       "<style scoped>\n",
       "    .dataframe tbody tr th:only-of-type {\n",
       "        vertical-align: middle;\n",
       "    }\n",
       "\n",
       "    .dataframe tbody tr th {\n",
       "        vertical-align: top;\n",
       "    }\n",
       "\n",
       "    .dataframe thead th {\n",
       "        text-align: right;\n",
       "    }\n",
       "</style>\n",
       "<table border=\"1\" class=\"dataframe\">\n",
       "  <thead>\n",
       "    <tr style=\"text-align: right;\">\n",
       "      <th></th>\n",
       "      <th>Date Time</th>\n",
       "      <th>Water Level</th>\n",
       "      <th>Sigma</th>\n",
       "      <th>O</th>\n",
       "      <th>F</th>\n",
       "      <th>R</th>\n",
       "      <th>L</th>\n",
       "      <th>Quality</th>\n",
       "      <th>Water Difference</th>\n",
       "    </tr>\n",
       "  </thead>\n",
       "  <tbody>\n",
       "    <tr>\n",
       "      <th>417</th>\n",
       "      <td>2018-10-10 17:42</td>\n",
       "      <td>5.591</td>\n",
       "      <td>0.23</td>\n",
       "      <td>1</td>\n",
       "      <td>0</td>\n",
       "      <td>0</td>\n",
       "      <td>0</td>\n",
       "      <td>p</td>\n",
       "      <td>0.64</td>\n",
       "    </tr>\n",
       "  </tbody>\n",
       "</table>\n",
       "</div>"
      ],
      "text/plain": [
       "            Date Time   Water Level   Sigma   O   F   R   L  Quality   \\\n",
       "417  2018-10-10 17:42         5.591    0.23   1   0   0   0         p   \n",
       "\n",
       "     Water Difference  \n",
       "417              0.64  "
      ]
     },
     "execution_count": 12,
     "metadata": {},
     "output_type": "execute_result"
    }
   ],
   "source": [
    "#Problem 3 (5 pts):\n",
    "#Write a script (or Jupyter Notebook) that calculates the fastest rise in water level per 6-minute period between measurements\n",
    "#(for this assignment, assume that each line of the dataset is a 6-minute interval)\n",
    "#and reports the date and time that was observed and the change in water level from the previous recording.\n",
    "\n",
    "import pandas as pd  #read csv as pandas dataframe\n",
    "\n",
    "df = pd.read_csv('/blue/bsc4452/share/Class_Files/data/CO-OPS__8729108__wl.csv')     #open the file and rename it as df\n",
    "df['Water Difference'] = df[' Water Level'].diff(1)      #create a new column on file df and calculate the diference between \n",
    "df.nlargest(1, ['Water Difference'])"
   ]
  },
  {
   "cell_type": "code",
   "execution_count": 13,
   "metadata": {},
   "outputs": [
    {
     "ename": "IndentationError",
     "evalue": "unexpected indent (<ipython-input-13-3ead6eb493c1>, line 18)",
     "output_type": "error",
     "traceback": [
      "\u001b[0;36m  File \u001b[0;32m\"<ipython-input-13-3ead6eb493c1>\"\u001b[0;36m, line \u001b[0;32m18\u001b[0m\n\u001b[0;31m    if diff > 0.25: #if the difference(rise of water level) is bigger than 0.25\u001b[0m\n\u001b[0m    ^\u001b[0m\n\u001b[0;31mIndentationError\u001b[0m\u001b[0;31m:\u001b[0m unexpected indent\n"
     ]
    }
   ],
   "source": [
    "#Problem 4 (5 pts):\n",
    "#Imagine that the file is providing live readings of the water level.\n",
    "#Write a script (or Jupyter Notebook) to print a line of text with a warning if any of these events occur:\n",
    "# The water level increases more than 0.25 since the previous recording.\n",
    "# The water level is over 5.0.\n",
    "# No reading is received at a time point.\n",
    "\n",
    "FILE = open('/blue/bsc4452/share/Class_Files/data/CO-OPS__8729108__wl.csv')     #open the file \n",
    "\n",
    "headerout = FILE.readlines()[1:]\n",
    "level_before = float(headerout[0].split(\",\")[1])\n",
    "\n",
    "for line in headerout:\n",
    "    try:\n",
    "            h2o_lvl = float(line.split(\",\")[1])\n",
    "            diff = h2o_lvl - level_before\n",
    "            level_before = h2o_lvl\n",
    "                if diff > 0.25: #if the difference(rise of water level) is bigger than 0.25\n",
    "                    print(\"WARNING: The water level has increased more than 0.25 since the last recording\")\n",
    "                if h2o_lvl > 5.0: # if the water level is greater than 5\n",
    "                    print(\"WARNING: The water level is over 5.0\")\n",
    "    except: \n",
    "                    print(\"No reading was received\")"
   ]
  },
  {
   "cell_type": "code",
   "execution_count": null,
   "metadata": {},
   "outputs": [],
   "source": []
  }
 ],
 "metadata": {
  "kernelspec": {
   "display_name": "Python 3.8 (basic)",
   "language": "python",
   "name": "python3"
  },
  "language_info": {
   "codemirror_mode": {
    "name": "ipython",
    "version": 3
   },
   "file_extension": ".py",
   "mimetype": "text/x-python",
   "name": "python",
   "nbconvert_exporter": "python",
   "pygments_lexer": "ipython3",
   "version": "3.8.1"
  },
  "toc-autonumbering": false,
  "toc-showcode": true,
  "toc-showmarkdowntxt": false,
  "toc-showtags": false
 },
 "nbformat": 4,
 "nbformat_minor": 4
}
